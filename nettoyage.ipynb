{
 "cells": [
  {
   "cell_type": "code",
   "execution_count": 13,
   "metadata": {},
   "outputs": [],
   "source": [
    "import pandas as pd \n",
    "import sqlite3"
   ]
  },
  {
   "cell_type": "code",
   "execution_count": 14,
   "metadata": {},
   "outputs": [],
   "source": [
    "connection = sqlite3.connect (\"olist.db\")\n",
    "\n",
    "df_reviews = pd.read_sql_query(\"SELECT * FROM Reviews\", connection)\n",
    "\n",
    "connection.close()"
   ]
  },
  {
   "cell_type": "code",
   "execution_count": 15,
   "metadata": {},
   "outputs": [
    {
     "name": "stdout",
     "output_type": "stream",
     "text": [
      "<class 'pandas.core.frame.DataFrame'>\n",
      "RangeIndex: 98410 entries, 0 to 98409\n",
      "Data columns (total 8 columns):\n",
      " #   Column                   Non-Null Count  Dtype \n",
      "---  ------                   --------------  ----- \n",
      " 0   review_id                98410 non-null  object\n",
      " 1   order_id                 98410 non-null  object\n",
      " 2   review_score             98410 non-null  int64 \n",
      " 3   review_comment_title     98410 non-null  object\n",
      " 4   review_comment_message   98410 non-null  object\n",
      " 5   review_creation_date     98410 non-null  object\n",
      " 6   review_answer_timestamp  98410 non-null  object\n",
      " 7   timestamp_field_7        27 non-null     object\n",
      "dtypes: int64(1), object(7)\n",
      "memory usage: 6.0+ MB\n"
     ]
    }
   ],
   "source": [
    "df_reviews.info()"
   ]
  },
  {
   "cell_type": "code",
   "execution_count": 16,
   "metadata": {},
   "outputs": [],
   "source": [
    "df_reviews = df_reviews.drop([\"timestamp_field_7\"], axis = 1)"
   ]
  },
  {
   "cell_type": "code",
   "execution_count": 17,
   "metadata": {},
   "outputs": [
    {
     "name": "stdout",
     "output_type": "stream",
     "text": [
      "<class 'pandas.core.frame.DataFrame'>\n",
      "RangeIndex: 98410 entries, 0 to 98409\n",
      "Data columns (total 7 columns):\n",
      " #   Column                   Non-Null Count  Dtype \n",
      "---  ------                   --------------  ----- \n",
      " 0   review_id                98410 non-null  object\n",
      " 1   order_id                 98410 non-null  object\n",
      " 2   review_score             98410 non-null  int64 \n",
      " 3   review_comment_title     98410 non-null  object\n",
      " 4   review_comment_message   98410 non-null  object\n",
      " 5   review_creation_date     98410 non-null  object\n",
      " 6   review_answer_timestamp  98410 non-null  object\n",
      "dtypes: int64(1), object(6)\n",
      "memory usage: 5.3+ MB\n"
     ]
    }
   ],
   "source": [
    "df_reviews.info()"
   ]
  },
  {
   "cell_type": "code",
   "execution_count": 18,
   "metadata": {},
   "outputs": [
    {
     "data": {
      "text/html": [
       "<div>\n",
       "<style scoped>\n",
       "    .dataframe tbody tr th:only-of-type {\n",
       "        vertical-align: middle;\n",
       "    }\n",
       "\n",
       "    .dataframe tbody tr th {\n",
       "        vertical-align: top;\n",
       "    }\n",
       "\n",
       "    .dataframe thead th {\n",
       "        text-align: right;\n",
       "    }\n",
       "</style>\n",
       "<table border=\"1\" class=\"dataframe\">\n",
       "  <thead>\n",
       "    <tr style=\"text-align: right;\">\n",
       "      <th></th>\n",
       "      <th>review_id</th>\n",
       "      <th>order_id</th>\n",
       "      <th>review_score</th>\n",
       "      <th>review_comment_title</th>\n",
       "      <th>review_comment_message</th>\n",
       "      <th>review_creation_date</th>\n",
       "      <th>review_answer_timestamp</th>\n",
       "    </tr>\n",
       "  </thead>\n",
       "  <tbody>\n",
       "    <tr>\n",
       "      <th>0</th>\n",
       "      <td>15197aa66ff4d0650b5434f1b46cda19</td>\n",
       "      <td>b18dcdf73be66366873cd26c5724d1dc</td>\n",
       "      <td>1</td>\n",
       "      <td></td>\n",
       "      <td></td>\n",
       "      <td>2018-04-13 00:00:00</td>\n",
       "      <td>2018-04-16T00:39:37Z</td>\n",
       "    </tr>\n",
       "    <tr>\n",
       "      <th>1</th>\n",
       "      <td>9a0abbb668bafb95a6d2b05db43284c4</td>\n",
       "      <td>d7bd0e4afdf94846eb73642b4e3e75c3</td>\n",
       "      <td>3</td>\n",
       "      <td></td>\n",
       "      <td></td>\n",
       "      <td>2017-04-30 00:00:00</td>\n",
       "      <td>2017-05-03T00:02:22Z</td>\n",
       "    </tr>\n",
       "    <tr>\n",
       "      <th>2</th>\n",
       "      <td>fdbdb2629a7cde0f66657acc92084e7f</td>\n",
       "      <td>70a752414a13d09cc1f2b437b914b28e</td>\n",
       "      <td>3</td>\n",
       "      <td></td>\n",
       "      <td></td>\n",
       "      <td>2017-09-29 00:00:00</td>\n",
       "      <td>2017-10-02T01:12:49Z</td>\n",
       "    </tr>\n",
       "    <tr>\n",
       "      <th>3</th>\n",
       "      <td>7bc2406110b926393aa56f80a40eba40</td>\n",
       "      <td>73fc7af87114b39712e6da79b0a377eb</td>\n",
       "      <td>4</td>\n",
       "      <td></td>\n",
       "      <td></td>\n",
       "      <td>2018-01-18 00:00:00</td>\n",
       "      <td>2018-01-18T21:46:59Z</td>\n",
       "    </tr>\n",
       "    <tr>\n",
       "      <th>4</th>\n",
       "      <td>23f75a37effc35d9a915b4e1ad483793</td>\n",
       "      <td>2eaf8e099d871cd5c22b83b5ea8f6e0e</td>\n",
       "      <td>4</td>\n",
       "      <td></td>\n",
       "      <td></td>\n",
       "      <td>2018-03-28 00:00:00</td>\n",
       "      <td>2018-03-30T15:10:55Z</td>\n",
       "    </tr>\n",
       "  </tbody>\n",
       "</table>\n",
       "</div>"
      ],
      "text/plain": [
       "                          review_id                          order_id  \\\n",
       "0  15197aa66ff4d0650b5434f1b46cda19  b18dcdf73be66366873cd26c5724d1dc   \n",
       "1  9a0abbb668bafb95a6d2b05db43284c4  d7bd0e4afdf94846eb73642b4e3e75c3   \n",
       "2  fdbdb2629a7cde0f66657acc92084e7f  70a752414a13d09cc1f2b437b914b28e   \n",
       "3  7bc2406110b926393aa56f80a40eba40  73fc7af87114b39712e6da79b0a377eb   \n",
       "4  23f75a37effc35d9a915b4e1ad483793  2eaf8e099d871cd5c22b83b5ea8f6e0e   \n",
       "\n",
       "   review_score review_comment_title review_comment_message  \\\n",
       "0             1                                               \n",
       "1             3                                               \n",
       "2             3                                               \n",
       "3             4                                               \n",
       "4             4                                               \n",
       "\n",
       "  review_creation_date review_answer_timestamp  \n",
       "0  2018-04-13 00:00:00    2018-04-16T00:39:37Z  \n",
       "1  2017-04-30 00:00:00    2017-05-03T00:02:22Z  \n",
       "2  2017-09-29 00:00:00    2017-10-02T01:12:49Z  \n",
       "3  2018-01-18 00:00:00    2018-01-18T21:46:59Z  \n",
       "4  2018-03-28 00:00:00    2018-03-30T15:10:55Z  "
      ]
     },
     "execution_count": 18,
     "metadata": {},
     "output_type": "execute_result"
    }
   ],
   "source": [
    "df_reviews.head()"
   ]
  },
  {
   "cell_type": "markdown",
   "metadata": {},
   "source": [
    "1.2 Gestion des doublons\n"
   ]
  },
  {
   "cell_type": "code",
   "execution_count": 27,
   "metadata": {},
   "outputs": [],
   "source": [
    "df_reviews = df_reviews.drop_duplicates(['order_id', 'review_score', 'review_comment_title', 'review_comment_message', 'review_creation_date'])"
   ]
  },
  {
   "cell_type": "code",
   "execution_count": 28,
   "metadata": {},
   "outputs": [
    {
     "data": {
      "text/plain": [
       "(98371, 7)"
      ]
     },
     "execution_count": 28,
     "metadata": {},
     "output_type": "execute_result"
    }
   ],
   "source": [
    "df_reviews.shape"
   ]
  },
  {
   "cell_type": "markdown",
   "metadata": {},
   "source": [
    "# analyse"
   ]
  },
  {
   "cell_type": "code",
   "execution_count": 22,
   "metadata": {},
   "outputs": [
    {
     "data": {
      "text/plain": [
       "(98167, 7)"
      ]
     },
     "execution_count": 22,
     "metadata": {},
     "output_type": "execute_result"
    }
   ],
   "source": [
    "df_reviews.drop_duplicates(['order_id']).shape"
   ]
  },
  {
   "cell_type": "code",
   "execution_count": 23,
   "metadata": {},
   "outputs": [
    {
     "data": {
      "text/plain": [
       "(98410, 7)"
      ]
     },
     "execution_count": 23,
     "metadata": {},
     "output_type": "execute_result"
    }
   ],
   "source": [
    "df_reviews.drop_duplicates(['review_id']).shape"
   ]
  },
  {
   "cell_type": "code",
   "execution_count": 24,
   "metadata": {},
   "outputs": [
    {
     "data": {
      "text/plain": [
       "order_id                        \n",
       "7b1219cc26d69c357880055b52d87960    2\n",
       "0b5588f04551d90ee148462bb65dfddf    2\n",
       "9de38c42ea4d33af19aac6c4d6c4b146    2\n",
       "4d006fbdecd41058974d5d99f2d69650    2\n",
       "03515a836bb855b03f7df9dee520a8fc    2\n",
       "                                   ..\n",
       "557c1116cc609730b617567dec5790b3    1\n",
       "557a4667291301e8bf807fca57f21d3e    1\n",
       "5579e05d13430813508d862a0dd812fd    1\n",
       "55788c74967dbef64cfde7d1db11e49d    1\n",
       "fffe41c64501cc87c801fd61db3f6244    1\n",
       "Name: count, Length: 98167, dtype: int64"
      ]
     },
     "execution_count": 24,
     "metadata": {},
     "output_type": "execute_result"
    }
   ],
   "source": [
    "df_reviews[[\"order_id\"]].value_counts()"
   ]
  },
  {
   "cell_type": "code",
   "execution_count": 25,
   "metadata": {},
   "outputs": [
    {
     "data": {
      "text/html": [
       "<div>\n",
       "<style scoped>\n",
       "    .dataframe tbody tr th:only-of-type {\n",
       "        vertical-align: middle;\n",
       "    }\n",
       "\n",
       "    .dataframe tbody tr th {\n",
       "        vertical-align: top;\n",
       "    }\n",
       "\n",
       "    .dataframe thead th {\n",
       "        text-align: right;\n",
       "    }\n",
       "</style>\n",
       "<table border=\"1\" class=\"dataframe\">\n",
       "  <thead>\n",
       "    <tr style=\"text-align: right;\">\n",
       "      <th></th>\n",
       "      <th>review_id</th>\n",
       "      <th>order_id</th>\n",
       "      <th>review_score</th>\n",
       "      <th>review_comment_title</th>\n",
       "      <th>review_comment_message</th>\n",
       "      <th>review_creation_date</th>\n",
       "      <th>review_answer_timestamp</th>\n",
       "    </tr>\n",
       "  </thead>\n",
       "  <tbody>\n",
       "    <tr>\n",
       "      <th>76179</th>\n",
       "      <td>58171a7606dfe74e31f874852a22dccc</td>\n",
       "      <td>7b1219cc26d69c357880055b52d87960</td>\n",
       "      <td>5</td>\n",
       "      <td></td>\n",
       "      <td></td>\n",
       "      <td>2017-08-02 00:00:00</td>\n",
       "      <td>2017-08-03 09:13:05</td>\n",
       "    </tr>\n",
       "    <tr>\n",
       "      <th>92293</th>\n",
       "      <td>d48422d17e29a8978034917672636d80</td>\n",
       "      <td>7b1219cc26d69c357880055b52d87960</td>\n",
       "      <td>5</td>\n",
       "      <td></td>\n",
       "      <td></td>\n",
       "      <td>2017-08-02 00:00:00</td>\n",
       "      <td>2017-08-05 09:46:00</td>\n",
       "    </tr>\n",
       "  </tbody>\n",
       "</table>\n",
       "</div>"
      ],
      "text/plain": [
       "                              review_id                          order_id  \\\n",
       "76179  58171a7606dfe74e31f874852a22dccc  7b1219cc26d69c357880055b52d87960   \n",
       "92293  d48422d17e29a8978034917672636d80  7b1219cc26d69c357880055b52d87960   \n",
       "\n",
       "       review_score review_comment_title review_comment_message  \\\n",
       "76179             5                                               \n",
       "92293             5                                               \n",
       "\n",
       "      review_creation_date review_answer_timestamp  \n",
       "76179  2017-08-02 00:00:00     2017-08-03 09:13:05  \n",
       "92293  2017-08-02 00:00:00     2017-08-05 09:46:00  "
      ]
     },
     "execution_count": 25,
     "metadata": {},
     "output_type": "execute_result"
    }
   ],
   "source": [
    "df_reviews.loc[df_reviews[\"order_id\"]==\"7b1219cc26d69c357880055b52d87960\",:]"
   ]
  },
  {
   "cell_type": "code",
   "execution_count": 26,
   "metadata": {},
   "outputs": [
    {
     "data": {
      "text/html": [
       "<div>\n",
       "<style scoped>\n",
       "    .dataframe tbody tr th:only-of-type {\n",
       "        vertical-align: middle;\n",
       "    }\n",
       "\n",
       "    .dataframe tbody tr th {\n",
       "        vertical-align: top;\n",
       "    }\n",
       "\n",
       "    .dataframe thead th {\n",
       "        text-align: right;\n",
       "    }\n",
       "</style>\n",
       "<table border=\"1\" class=\"dataframe\">\n",
       "  <thead>\n",
       "    <tr style=\"text-align: right;\">\n",
       "      <th></th>\n",
       "      <th>review_id</th>\n",
       "      <th>order_id</th>\n",
       "      <th>review_score</th>\n",
       "      <th>review_comment_title</th>\n",
       "      <th>review_comment_message</th>\n",
       "      <th>review_creation_date</th>\n",
       "      <th>review_answer_timestamp</th>\n",
       "    </tr>\n",
       "  </thead>\n",
       "  <tbody>\n",
       "    <tr>\n",
       "      <th>10434</th>\n",
       "      <td>ebafde0e0d7cc00d0af52d25a3ba12fd</td>\n",
       "      <td>0b5588f04551d90ee148462bb65dfddf</td>\n",
       "      <td>3</td>\n",
       "      <td></td>\n",
       "      <td></td>\n",
       "      <td>2018-08-04 00:00:00</td>\n",
       "      <td>2018-08-04 23:33:37</td>\n",
       "    </tr>\n",
       "    <tr>\n",
       "      <th>92047</th>\n",
       "      <td>27484997dcc084666f68b3a58a4804d3</td>\n",
       "      <td>0b5588f04551d90ee148462bb65dfddf</td>\n",
       "      <td>3</td>\n",
       "      <td></td>\n",
       "      <td></td>\n",
       "      <td>2018-07-26 00:00:00</td>\n",
       "      <td>2018-07-27 15:37:38</td>\n",
       "    </tr>\n",
       "  </tbody>\n",
       "</table>\n",
       "</div>"
      ],
      "text/plain": [
       "                              review_id                          order_id  \\\n",
       "10434  ebafde0e0d7cc00d0af52d25a3ba12fd  0b5588f04551d90ee148462bb65dfddf   \n",
       "92047  27484997dcc084666f68b3a58a4804d3  0b5588f04551d90ee148462bb65dfddf   \n",
       "\n",
       "       review_score review_comment_title review_comment_message  \\\n",
       "10434             3                                               \n",
       "92047             3                                               \n",
       "\n",
       "      review_creation_date review_answer_timestamp  \n",
       "10434  2018-08-04 00:00:00     2018-08-04 23:33:37  \n",
       "92047  2018-07-26 00:00:00     2018-07-27 15:37:38  "
      ]
     },
     "execution_count": 26,
     "metadata": {},
     "output_type": "execute_result"
    }
   ],
   "source": [
    "df_reviews.loc[df_reviews[\"order_id\"]==\"0b5588f04551d90ee148462bb65dfddf\",:]"
   ]
  },
  {
   "cell_type": "markdown",
   "metadata": {},
   "source": []
  },
  {
   "cell_type": "code",
   "execution_count": null,
   "metadata": {},
   "outputs": [],
   "source": []
  },
  {
   "cell_type": "code",
   "execution_count": 33,
   "metadata": {},
   "outputs": [
    {
     "data": {
      "text/plain": [
       "Index(['review_id', 'order_id', 'review_score', 'review_comment_title',\n",
       "       'review_comment_message', 'review_creation_date',\n",
       "       'review_answer_timestamp'],\n",
       "      dtype='object')"
      ]
     },
     "execution_count": 33,
     "metadata": {},
     "output_type": "execute_result"
    }
   ],
   "source": [
    "df_reviews.columns"
   ]
  },
  {
   "cell_type": "code",
   "execution_count": null,
   "metadata": {},
   "outputs": [],
   "source": [
    "df_reviews.review"
   ]
  },
  {
   "cell_type": "code",
   "execution_count": 35,
   "metadata": {},
   "outputs": [
    {
     "name": "stderr",
     "output_type": "stream",
     "text": [
      "C:\\Users\\Utilisateur\\AppData\\Local\\Temp\\ipykernel_14340\\716118920.py:1: SettingWithCopyWarning: \n",
      "A value is trying to be set on a copy of a slice from a DataFrame.\n",
      "Try using .loc[row_indexer,col_indexer] = value instead\n",
      "\n",
      "See the caveats in the documentation: https://pandas.pydata.org/pandas-docs/stable/user_guide/indexing.html#returning-a-view-versus-a-copy\n",
      "  df_reviews.review_creation_date = pd.to_datetime(df_reviews['review_creation_date'], format= '%Y-%m-%d %H:%M:%S', errors=\"coerce\")\n"
     ]
    }
   ],
   "source": [
    "df_reviews.review_creation_date = pd.to_datetime(df_reviews['review_creation_date'], format= '%Y-%m-%d %H:%M:%S', errors=\"coerce\")"
   ]
  },
  {
   "cell_type": "code",
   "execution_count": 36,
   "metadata": {},
   "outputs": [
    {
     "data": {
      "text/plain": [
       "review_id                  4b49719c8a200003f700d3d986ea1a19\n",
       "order_id                   9d6f15f95d01e79bd1349cc208361f09\n",
       "review_score                                              4\n",
       "review_comment_title                                       \n",
       "review_comment_message                        Mas um pouco \n",
       "review_creation_date                                    NaT\n",
       "review_answer_timestamp                2018-02-16T00:00:00Z\n",
       "Name: 20, dtype: object"
      ]
     },
     "execution_count": 36,
     "metadata": {},
     "output_type": "execute_result"
    }
   ],
   "source": [
    "df_reviews.loc[20, :]"
   ]
  },
  {
   "cell_type": "code",
   "execution_count": 37,
   "metadata": {},
   "outputs": [
    {
     "name": "stderr",
     "output_type": "stream",
     "text": [
      "C:\\Users\\Utilisateur\\AppData\\Local\\Temp\\ipykernel_14340\\4141303386.py:1: SettingWithCopyWarning: \n",
      "A value is trying to be set on a copy of a slice from a DataFrame.\n",
      "Try using .loc[row_indexer,col_indexer] = value instead\n",
      "\n",
      "See the caveats in the documentation: https://pandas.pydata.org/pandas-docs/stable/user_guide/indexing.html#returning-a-view-versus-a-copy\n",
      "  df_reviews.review_answer_timestamp = pd.to_datetime(df_reviews['review_answer_timestamp'], format= '%Y-%m-%d %H:%M:%S', errors=\"coerce\")\n"
     ]
    }
   ],
   "source": [
    "df_reviews.review_answer_timestamp = pd.to_datetime(df_reviews['review_answer_timestamp'], format= '%Y-%m-%d %H:%M:%S', errors=\"coerce\")"
   ]
  },
  {
   "cell_type": "code",
   "execution_count": 38,
   "metadata": {},
   "outputs": [
    {
     "data": {
      "text/html": [
       "<div>\n",
       "<style scoped>\n",
       "    .dataframe tbody tr th:only-of-type {\n",
       "        vertical-align: middle;\n",
       "    }\n",
       "\n",
       "    .dataframe tbody tr th {\n",
       "        vertical-align: top;\n",
       "    }\n",
       "\n",
       "    .dataframe thead th {\n",
       "        text-align: right;\n",
       "    }\n",
       "</style>\n",
       "<table border=\"1\" class=\"dataframe\">\n",
       "  <thead>\n",
       "    <tr style=\"text-align: right;\">\n",
       "      <th></th>\n",
       "      <th>review_id</th>\n",
       "      <th>order_id</th>\n",
       "      <th>review_score</th>\n",
       "      <th>review_comment_title</th>\n",
       "      <th>review_comment_message</th>\n",
       "      <th>review_creation_date</th>\n",
       "      <th>review_answer_timestamp</th>\n",
       "    </tr>\n",
       "  </thead>\n",
       "  <tbody>\n",
       "    <tr>\n",
       "      <th>0</th>\n",
       "      <td>15197aa66ff4d0650b5434f1b46cda19</td>\n",
       "      <td>b18dcdf73be66366873cd26c5724d1dc</td>\n",
       "      <td>1</td>\n",
       "      <td></td>\n",
       "      <td></td>\n",
       "      <td>2018-04-13</td>\n",
       "      <td>NaT</td>\n",
       "    </tr>\n",
       "    <tr>\n",
       "      <th>1</th>\n",
       "      <td>9a0abbb668bafb95a6d2b05db43284c4</td>\n",
       "      <td>d7bd0e4afdf94846eb73642b4e3e75c3</td>\n",
       "      <td>3</td>\n",
       "      <td></td>\n",
       "      <td></td>\n",
       "      <td>2017-04-30</td>\n",
       "      <td>NaT</td>\n",
       "    </tr>\n",
       "    <tr>\n",
       "      <th>2</th>\n",
       "      <td>fdbdb2629a7cde0f66657acc92084e7f</td>\n",
       "      <td>70a752414a13d09cc1f2b437b914b28e</td>\n",
       "      <td>3</td>\n",
       "      <td></td>\n",
       "      <td></td>\n",
       "      <td>2017-09-29</td>\n",
       "      <td>NaT</td>\n",
       "    </tr>\n",
       "    <tr>\n",
       "      <th>3</th>\n",
       "      <td>7bc2406110b926393aa56f80a40eba40</td>\n",
       "      <td>73fc7af87114b39712e6da79b0a377eb</td>\n",
       "      <td>4</td>\n",
       "      <td></td>\n",
       "      <td></td>\n",
       "      <td>2018-01-18</td>\n",
       "      <td>NaT</td>\n",
       "    </tr>\n",
       "    <tr>\n",
       "      <th>4</th>\n",
       "      <td>23f75a37effc35d9a915b4e1ad483793</td>\n",
       "      <td>2eaf8e099d871cd5c22b83b5ea8f6e0e</td>\n",
       "      <td>4</td>\n",
       "      <td></td>\n",
       "      <td></td>\n",
       "      <td>2018-03-28</td>\n",
       "      <td>NaT</td>\n",
       "    </tr>\n",
       "  </tbody>\n",
       "</table>\n",
       "</div>"
      ],
      "text/plain": [
       "                          review_id                          order_id  \\\n",
       "0  15197aa66ff4d0650b5434f1b46cda19  b18dcdf73be66366873cd26c5724d1dc   \n",
       "1  9a0abbb668bafb95a6d2b05db43284c4  d7bd0e4afdf94846eb73642b4e3e75c3   \n",
       "2  fdbdb2629a7cde0f66657acc92084e7f  70a752414a13d09cc1f2b437b914b28e   \n",
       "3  7bc2406110b926393aa56f80a40eba40  73fc7af87114b39712e6da79b0a377eb   \n",
       "4  23f75a37effc35d9a915b4e1ad483793  2eaf8e099d871cd5c22b83b5ea8f6e0e   \n",
       "\n",
       "   review_score review_comment_title review_comment_message  \\\n",
       "0             1                                               \n",
       "1             3                                               \n",
       "2             3                                               \n",
       "3             4                                               \n",
       "4             4                                               \n",
       "\n",
       "  review_creation_date review_answer_timestamp  \n",
       "0           2018-04-13                     NaT  \n",
       "1           2017-04-30                     NaT  \n",
       "2           2017-09-29                     NaT  \n",
       "3           2018-01-18                     NaT  \n",
       "4           2018-03-28                     NaT  "
      ]
     },
     "execution_count": 38,
     "metadata": {},
     "output_type": "execute_result"
    }
   ],
   "source": [
    "df_reviews.head()"
   ]
  },
  {
   "cell_type": "code",
   "execution_count": 39,
   "metadata": {},
   "outputs": [
    {
     "data": {
      "text/plain": [
       "(98371, 7)"
      ]
     },
     "execution_count": 39,
     "metadata": {},
     "output_type": "execute_result"
    }
   ],
   "source": [
    "df_reviews.shape"
   ]
  },
  {
   "cell_type": "code",
   "execution_count": 41,
   "metadata": {},
   "outputs": [
    {
     "data": {
      "text/plain": [
       "98360   2018-03-22\n",
       "98361   2018-03-09\n",
       "98362   2018-05-19\n",
       "98363   2018-06-13\n",
       "98364   2018-06-22\n",
       "98365   2018-04-03\n",
       "98366   2017-12-05\n",
       "98367   2018-04-07\n",
       "98368   2017-12-07\n",
       "98369   2018-03-14\n",
       "98370   2017-06-08\n",
       "98371   2017-12-19\n",
       "98372   2018-06-20\n",
       "98373   2018-05-22\n",
       "98374   2018-04-25\n",
       "98375   2018-01-09\n",
       "98376   2017-04-08\n",
       "98377   2017-08-20\n",
       "98378   2018-07-04\n",
       "98379   2017-06-29\n",
       "98380   2018-05-31\n",
       "98381   2018-06-16\n",
       "98382   2018-06-30\n",
       "98383   2018-06-05\n",
       "98384   2017-12-19\n",
       "98385   2018-08-08\n",
       "98386   2018-03-28\n",
       "98387   2018-01-24\n",
       "98388   2018-04-18\n",
       "98389   2018-02-21\n",
       "98390   2018-05-23\n",
       "98391   2017-11-29\n",
       "98392   2017-11-21\n",
       "98393   2018-08-05\n",
       "98394   2018-02-07\n",
       "98395   2017-03-08\n",
       "98396   2018-06-08\n",
       "98397   2017-06-20\n",
       "98398   2017-04-05\n",
       "98399   2018-06-19\n",
       "98400   2018-05-23\n",
       "98401   2018-05-19\n",
       "98402   2018-05-08\n",
       "98403   2017-12-13\n",
       "98404   2018-04-27\n",
       "98405   2018-07-07\n",
       "98406   2017-12-09\n",
       "98407   2018-03-22\n",
       "98408   2018-07-01\n",
       "98409   2017-07-03\n",
       "Name: review_creation_date, dtype: datetime64[ns]"
      ]
     },
     "execution_count": 41,
     "metadata": {},
     "output_type": "execute_result"
    }
   ],
   "source": [
    "df_reviews.review_creation_date.tail(50)"
   ]
  },
  {
   "cell_type": "code",
   "execution_count": 42,
   "metadata": {},
   "outputs": [
    {
     "name": "stdout",
     "output_type": "stream",
     "text": [
      "<class 'pandas.core.frame.DataFrame'>\n",
      "Index: 98371 entries, 0 to 98409\n",
      "Data columns (total 7 columns):\n",
      " #   Column                   Non-Null Count  Dtype         \n",
      "---  ------                   --------------  -----         \n",
      " 0   review_id                98371 non-null  object        \n",
      " 1   order_id                 98371 non-null  object        \n",
      " 2   review_score             98371 non-null  int64         \n",
      " 3   review_comment_title     98371 non-null  object        \n",
      " 4   review_comment_message   98371 non-null  object        \n",
      " 5   review_creation_date     98368 non-null  datetime64[ns]\n",
      " 6   review_answer_timestamp  98344 non-null  datetime64[ns]\n",
      "dtypes: datetime64[ns](2), int64(1), object(4)\n",
      "memory usage: 8.0+ MB\n"
     ]
    }
   ],
   "source": [
    "df_reviews.info()"
   ]
  },
  {
   "cell_type": "code",
   "execution_count": null,
   "metadata": {},
   "outputs": [],
   "source": [
    "df_reviews.loc[df_reviews['review_answer_timestamp'].isna(),:]['review_score'].value_counts()"
   ]
  },
  {
   "cell_type": "markdown",
   "metadata": {},
   "source": [
    "1.3.2 remplacement des dates manquantes"
   ]
  },
  {
   "cell_type": "code",
   "execution_count": 44,
   "metadata": {},
   "outputs": [],
   "source": [
    "df_reviews = df_reviews.dropna(subset=['review_creation_date','review_answer_timestamp'])"
   ]
  },
  {
   "cell_type": "code",
   "execution_count": 45,
   "metadata": {},
   "outputs": [
    {
     "name": "stdout",
     "output_type": "stream",
     "text": [
      "<class 'pandas.core.frame.DataFrame'>\n",
      "Index: 98344 entries, 27 to 98409\n",
      "Data columns (total 7 columns):\n",
      " #   Column                   Non-Null Count  Dtype         \n",
      "---  ------                   --------------  -----         \n",
      " 0   review_id                98344 non-null  object        \n",
      " 1   order_id                 98344 non-null  object        \n",
      " 2   review_score             98344 non-null  int64         \n",
      " 3   review_comment_title     98344 non-null  object        \n",
      " 4   review_comment_message   98344 non-null  object        \n",
      " 5   review_creation_date     98344 non-null  datetime64[ns]\n",
      " 6   review_answer_timestamp  98344 non-null  datetime64[ns]\n",
      "dtypes: datetime64[ns](2), int64(1), object(4)\n",
      "memory usage: 6.0+ MB\n"
     ]
    }
   ],
   "source": [
    "df_reviews.info()"
   ]
  },
  {
   "cell_type": "markdown",
   "metadata": {},
   "source": [
    "4. consistance des données\n"
   ]
  },
  {
   "cell_type": "code",
   "execution_count": 49,
   "metadata": {},
   "outputs": [
    {
     "data": {
      "text/plain": [
       "review_score\n",
       "5    56866\n",
       "4    18993\n",
       "1    11277\n",
       "3     8095\n",
       "2     3113\n",
       "Name: count, dtype: int64"
      ]
     },
     "execution_count": 49,
     "metadata": {},
     "output_type": "execute_result"
    }
   ],
   "source": [
    "df_reviews['review_score'].value_counts()"
   ]
  }
 ],
 "metadata": {
  "kernelspec": {
   "display_name": "Python 3",
   "language": "python",
   "name": "python3"
  },
  "language_info": {
   "codemirror_mode": {
    "name": "ipython",
    "version": 3
   },
   "file_extension": ".py",
   "mimetype": "text/x-python",
   "name": "python",
   "nbconvert_exporter": "python",
   "pygments_lexer": "ipython3",
   "version": "3.12.1"
  }
 },
 "nbformat": 4,
 "nbformat_minor": 2
}
